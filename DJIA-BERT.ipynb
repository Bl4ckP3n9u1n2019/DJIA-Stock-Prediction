{
 "metadata": {
  "language_info": {
   "codemirror_mode": {
    "name": "ipython",
    "version": 3
   },
   "file_extension": ".py",
   "mimetype": "text/x-python",
   "name": "python",
   "nbconvert_exporter": "python",
   "pygments_lexer": "ipython3",
   "version": 3
  },
  "orig_nbformat": 2,
  "kernelspec": {
   "name": "python_defaultSpec_1596574268203",
   "display_name": "Python 3.8.2 64-bit"
  }
 },
 "nbformat": 4,
 "nbformat_minor": 2,
 "cells": [
  {
   "cell_type": "code",
   "execution_count": 1,
   "metadata": {
    "tags": []
   },
   "outputs": [
    {
     "output_type": "stream",
     "name": "stderr",
     "text": "Using TensorFlow backend.\n"
    }
   ],
   "source": [
    "import pandas as pd\n",
    "import numpy as np\n",
    "import re\n",
    "import torch\n",
    "import torch.nn as nn\n",
    "from torch.optim import Adam\n",
    "from torch.utils.data import TensorDataset, DataLoader\n",
    "from pytorch_pretrained_bert import BertModel, BertTokenizer\n",
    "from keras.preprocessing.sequence import pad_sequences\n"
   ]
  },
  {
   "cell_type": "markdown",
   "metadata": {},
   "source": [
    "# Load and format data"
   ]
  },
  {
   "cell_type": "code",
   "execution_count": 9,
   "metadata": {
    "tags": []
   },
   "outputs": [
    {
     "output_type": "execute_result",
     "data": {
      "text/plain": "            Date  Label                                               News\n0     2008-08-08      0  Georgia downs two Russian warplanes as countri...\n1     2008-08-11      1  Why wont America and Nato help us? If they won...\n2     2008-08-12      0  Remember that adorable 9-year-old who sang at ...\n3     2008-08-13      0   U.S. refuses Israel weapons to attack Iran: r...\n4     2008-08-14      1  All the experts admit that we should legalise ...\n...          ...    ...                                                ...\n1984  2016-06-27      0  Barclays and RBS shares suspended from trading...\n1985  2016-06-28      1  2,500 Scientists To Australia: If You Want To ...\n1986  2016-06-29      1  Explosion At Airport In Istanbul Yemeni former...\n1987  2016-06-30      1  Jamaica proposes marijuana dispensers for tour...\n1988  2016-07-01      1  A 117-year-old woman in Mexico City finally re...\n\n[1989 rows x 3 columns]",
      "text/html": "<div>\n<style scoped>\n    .dataframe tbody tr th:only-of-type {\n        vertical-align: middle;\n    }\n\n    .dataframe tbody tr th {\n        vertical-align: top;\n    }\n\n    .dataframe thead th {\n        text-align: right;\n    }\n</style>\n<table border=\"1\" class=\"dataframe\">\n  <thead>\n    <tr style=\"text-align: right;\">\n      <th></th>\n      <th>Date</th>\n      <th>Label</th>\n      <th>News</th>\n    </tr>\n  </thead>\n  <tbody>\n    <tr>\n      <th>0</th>\n      <td>2008-08-08</td>\n      <td>0</td>\n      <td>Georgia downs two Russian warplanes as countri...</td>\n    </tr>\n    <tr>\n      <th>1</th>\n      <td>2008-08-11</td>\n      <td>1</td>\n      <td>Why wont America and Nato help us? If they won...</td>\n    </tr>\n    <tr>\n      <th>2</th>\n      <td>2008-08-12</td>\n      <td>0</td>\n      <td>Remember that adorable 9-year-old who sang at ...</td>\n    </tr>\n    <tr>\n      <th>3</th>\n      <td>2008-08-13</td>\n      <td>0</td>\n      <td>U.S. refuses Israel weapons to attack Iran: r...</td>\n    </tr>\n    <tr>\n      <th>4</th>\n      <td>2008-08-14</td>\n      <td>1</td>\n      <td>All the experts admit that we should legalise ...</td>\n    </tr>\n    <tr>\n      <th>...</th>\n      <td>...</td>\n      <td>...</td>\n      <td>...</td>\n    </tr>\n    <tr>\n      <th>1984</th>\n      <td>2016-06-27</td>\n      <td>0</td>\n      <td>Barclays and RBS shares suspended from trading...</td>\n    </tr>\n    <tr>\n      <th>1985</th>\n      <td>2016-06-28</td>\n      <td>1</td>\n      <td>2,500 Scientists To Australia: If You Want To ...</td>\n    </tr>\n    <tr>\n      <th>1986</th>\n      <td>2016-06-29</td>\n      <td>1</td>\n      <td>Explosion At Airport In Istanbul Yemeni former...</td>\n    </tr>\n    <tr>\n      <th>1987</th>\n      <td>2016-06-30</td>\n      <td>1</td>\n      <td>Jamaica proposes marijuana dispensers for tour...</td>\n    </tr>\n    <tr>\n      <th>1988</th>\n      <td>2016-07-01</td>\n      <td>1</td>\n      <td>A 117-year-old woman in Mexico City finally re...</td>\n    </tr>\n  </tbody>\n</table>\n<p>1989 rows × 3 columns</p>\n</div>"
     },
     "metadata": {},
     "execution_count": 9
    }
   ],
   "source": [
    "# Load data \n",
    "data = pd.read_csv(r'Data\\News_DJIA.csv')\n",
    "\n",
    "# combine titles \n",
    "title_cols = list(data.columns[2:22]) # using Top 20 titles\n",
    "data['News'] = data[title_cols].agg(' '.join, axis = 1)\n",
    "\n",
    "# remove, quotes and b, from news title cols \n",
    "def clean_titles(titles):\n",
    "    titles = re.sub('b[(\\')]','',titles)\n",
    "    titles = re.sub('b[(\\\")]','',titles)\n",
    "    titles = re.sub(\"\\'\",'',titles)\n",
    "    return titles\n",
    "\n",
    "data['News'] = data.apply(lambda x: clean_titles(x['News']), axis = 1)\n",
    "\n",
    "# drop used cols\n",
    "data = data.drop(data.columns[2:27], axis = 1)"
   ]
  }
 ]
}