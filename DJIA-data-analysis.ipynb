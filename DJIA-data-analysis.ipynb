{
 "metadata": {
  "language_info": {
   "codemirror_mode": {
    "name": "ipython",
    "version": 3
   },
   "file_extension": ".py",
   "mimetype": "text/x-python",
   "name": "python",
   "nbconvert_exporter": "python",
   "pygments_lexer": "ipython3",
   "version": "3.8.2-final"
  },
  "orig_nbformat": 2,
  "kernelspec": {
   "name": "python_defaultSpec_1597789219480",
   "display_name": "Python 3.8.2 64-bit"
  }
 },
 "nbformat": 4,
 "nbformat_minor": 2,
 "cells": [
  {
   "cell_type": "code",
   "execution_count": 1,
   "metadata": {},
   "outputs": [],
   "source": [
    "import pandas as pd\n",
    "import numpy as np\n",
    "import datetime as dt"
   ]
  },
  {
   "cell_type": "code",
   "execution_count": 2,
   "metadata": {},
   "outputs": [],
   "source": [
    "# Load data \n",
    "news = pd.read_csv(os.path.join('Data','News_DJIA.csv'))\n",
    "price = pd.read_csv(os.path.join('Data','Value_DJIA.csv'))"
   ]
  },
  {
   "cell_type": "code",
   "execution_count": 3,
   "metadata": {},
   "outputs": [
    {
     "output_type": "execute_result",
     "data": {
      "text/plain": "         Date  Adj Close Tmrw     Adj Close  Label-test\n0  2008-01-02    13056.719727  13043.959961           1\n1  2008-01-03    12800.179688  13056.719727           0\n2  2008-01-04    12827.490234  12800.179688           1\n3  2008-01-07    12589.070313  12827.490234           0\n4  2008-01-08    12735.309570  12589.070313           1",
      "text/html": "<div>\n<style scoped>\n    .dataframe tbody tr th:only-of-type {\n        vertical-align: middle;\n    }\n\n    .dataframe tbody tr th {\n        vertical-align: top;\n    }\n\n    .dataframe thead th {\n        text-align: right;\n    }\n</style>\n<table border=\"1\" class=\"dataframe\">\n  <thead>\n    <tr style=\"text-align: right;\">\n      <th></th>\n      <th>Date</th>\n      <th>Adj Close Tmrw</th>\n      <th>Adj Close</th>\n      <th>Label-test</th>\n    </tr>\n  </thead>\n  <tbody>\n    <tr>\n      <th>0</th>\n      <td>2008-01-02</td>\n      <td>13056.719727</td>\n      <td>13043.959961</td>\n      <td>1</td>\n    </tr>\n    <tr>\n      <th>1</th>\n      <td>2008-01-03</td>\n      <td>12800.179688</td>\n      <td>13056.719727</td>\n      <td>0</td>\n    </tr>\n    <tr>\n      <th>2</th>\n      <td>2008-01-04</td>\n      <td>12827.490234</td>\n      <td>12800.179688</td>\n      <td>1</td>\n    </tr>\n    <tr>\n      <th>3</th>\n      <td>2008-01-07</td>\n      <td>12589.070313</td>\n      <td>12827.490234</td>\n      <td>0</td>\n    </tr>\n    <tr>\n      <th>4</th>\n      <td>2008-01-08</td>\n      <td>12735.309570</td>\n      <td>12589.070313</td>\n      <td>1</td>\n    </tr>\n  </tbody>\n</table>\n</div>"
     },
     "metadata": {},
     "execution_count": 3
    }
   ],
   "source": [
    "# recompute labels \n",
    "# from: https://www.kaggle.com/aaron7sun/stocknews\n",
    "# \"1\" when DJIA Adj Close value rose or stayed as the same;\n",
    "# \"0\" when DJIA Adj Close value decreased.\n",
    "\n",
    "price['Adj Close Tmrw'] = price['Adj Close'].shift(-1)\n",
    "price['Label-test'] = price.apply(lambda x: 1 if (x['Adj Close Tmrw']>= x['Adj Close']) else 0, axis =1)\n",
    "\n",
    "price[['Date','Adj Close Tmrw','Adj Close','Label-test']].head(5)"
   ]
  },
  {
   "cell_type": "code",
   "execution_count": 4,
   "metadata": {},
   "outputs": [
    {
     "output_type": "execute_result",
     "data": {
      "text/plain": "          Date          Open         Close     Adj Close  Adj Close Tmrw  \\\n0   2008-08-08  11432.089844  11734.320313  11734.320313    11782.349609   \n1   2008-08-11  11729.669922  11782.349609  11782.349609    11642.469727   \n2   2008-08-12  11781.700195  11642.469727  11642.469727    11532.959961   \n3   2008-08-13  11632.809570  11532.959961  11532.959961    11615.929688   \n4   2008-08-14  11532.070313  11615.929688  11615.929688    11659.900391   \n5   2008-08-15  11611.209961  11659.900391  11659.900391    11479.389648   \n6   2008-08-18  11659.650391  11479.389648  11479.389648    11348.549805   \n7   2008-08-19  11478.089844  11348.549805  11348.549805    11417.429688   \n8   2008-08-20  11345.940430  11417.429688  11417.429688    11430.209961   \n9   2008-08-21  11415.230469  11430.209961  11430.209961    11628.059570   \n10  2008-08-22  11426.790039  11628.059570  11628.059570    11386.250000   \n11  2008-08-25  11626.190430  11386.250000  11386.250000    11412.870117   \n12  2008-08-26  11383.559570  11412.870117  11412.870117    11502.509766   \n13  2008-08-27  11412.459961  11502.509766  11502.509766    11715.179688   \n14  2008-08-28  11499.870117  11715.179688  11715.179688    11543.959961   \n\n    Label  Label-test  \n0       0           1  \n1       1           0  \n2       0           0  \n3       0           1  \n4       1           1  \n5       1           0  \n6       0           0  \n7       0           1  \n8       1           1  \n9       1           1  \n10      1           0  \n11      0           1  \n12      1           1  \n13      1           1  \n14      1           0  ",
      "text/html": "<div>\n<style scoped>\n    .dataframe tbody tr th:only-of-type {\n        vertical-align: middle;\n    }\n\n    .dataframe tbody tr th {\n        vertical-align: top;\n    }\n\n    .dataframe thead th {\n        text-align: right;\n    }\n</style>\n<table border=\"1\" class=\"dataframe\">\n  <thead>\n    <tr style=\"text-align: right;\">\n      <th></th>\n      <th>Date</th>\n      <th>Open</th>\n      <th>Close</th>\n      <th>Adj Close</th>\n      <th>Adj Close Tmrw</th>\n      <th>Label</th>\n      <th>Label-test</th>\n    </tr>\n  </thead>\n  <tbody>\n    <tr>\n      <th>0</th>\n      <td>2008-08-08</td>\n      <td>11432.089844</td>\n      <td>11734.320313</td>\n      <td>11734.320313</td>\n      <td>11782.349609</td>\n      <td>0</td>\n      <td>1</td>\n    </tr>\n    <tr>\n      <th>1</th>\n      <td>2008-08-11</td>\n      <td>11729.669922</td>\n      <td>11782.349609</td>\n      <td>11782.349609</td>\n      <td>11642.469727</td>\n      <td>1</td>\n      <td>0</td>\n    </tr>\n    <tr>\n      <th>2</th>\n      <td>2008-08-12</td>\n      <td>11781.700195</td>\n      <td>11642.469727</td>\n      <td>11642.469727</td>\n      <td>11532.959961</td>\n      <td>0</td>\n      <td>0</td>\n    </tr>\n    <tr>\n      <th>3</th>\n      <td>2008-08-13</td>\n      <td>11632.809570</td>\n      <td>11532.959961</td>\n      <td>11532.959961</td>\n      <td>11615.929688</td>\n      <td>0</td>\n      <td>1</td>\n    </tr>\n    <tr>\n      <th>4</th>\n      <td>2008-08-14</td>\n      <td>11532.070313</td>\n      <td>11615.929688</td>\n      <td>11615.929688</td>\n      <td>11659.900391</td>\n      <td>1</td>\n      <td>1</td>\n    </tr>\n    <tr>\n      <th>5</th>\n      <td>2008-08-15</td>\n      <td>11611.209961</td>\n      <td>11659.900391</td>\n      <td>11659.900391</td>\n      <td>11479.389648</td>\n      <td>1</td>\n      <td>0</td>\n    </tr>\n    <tr>\n      <th>6</th>\n      <td>2008-08-18</td>\n      <td>11659.650391</td>\n      <td>11479.389648</td>\n      <td>11479.389648</td>\n      <td>11348.549805</td>\n      <td>0</td>\n      <td>0</td>\n    </tr>\n    <tr>\n      <th>7</th>\n      <td>2008-08-19</td>\n      <td>11478.089844</td>\n      <td>11348.549805</td>\n      <td>11348.549805</td>\n      <td>11417.429688</td>\n      <td>0</td>\n      <td>1</td>\n    </tr>\n    <tr>\n      <th>8</th>\n      <td>2008-08-20</td>\n      <td>11345.940430</td>\n      <td>11417.429688</td>\n      <td>11417.429688</td>\n      <td>11430.209961</td>\n      <td>1</td>\n      <td>1</td>\n    </tr>\n    <tr>\n      <th>9</th>\n      <td>2008-08-21</td>\n      <td>11415.230469</td>\n      <td>11430.209961</td>\n      <td>11430.209961</td>\n      <td>11628.059570</td>\n      <td>1</td>\n      <td>1</td>\n    </tr>\n    <tr>\n      <th>10</th>\n      <td>2008-08-22</td>\n      <td>11426.790039</td>\n      <td>11628.059570</td>\n      <td>11628.059570</td>\n      <td>11386.250000</td>\n      <td>1</td>\n      <td>0</td>\n    </tr>\n    <tr>\n      <th>11</th>\n      <td>2008-08-25</td>\n      <td>11626.190430</td>\n      <td>11386.250000</td>\n      <td>11386.250000</td>\n      <td>11412.870117</td>\n      <td>0</td>\n      <td>1</td>\n    </tr>\n    <tr>\n      <th>12</th>\n      <td>2008-08-26</td>\n      <td>11383.559570</td>\n      <td>11412.870117</td>\n      <td>11412.870117</td>\n      <td>11502.509766</td>\n      <td>1</td>\n      <td>1</td>\n    </tr>\n    <tr>\n      <th>13</th>\n      <td>2008-08-27</td>\n      <td>11412.459961</td>\n      <td>11502.509766</td>\n      <td>11502.509766</td>\n      <td>11715.179688</td>\n      <td>1</td>\n      <td>1</td>\n    </tr>\n    <tr>\n      <th>14</th>\n      <td>2008-08-28</td>\n      <td>11499.870117</td>\n      <td>11715.179688</td>\n      <td>11715.179688</td>\n      <td>11543.959961</td>\n      <td>1</td>\n      <td>0</td>\n    </tr>\n  </tbody>\n</table>\n</div>"
     },
     "metadata": {},
     "execution_count": 4
    }
   ],
   "source": [
    "# merge price to news\n",
    "data = news.merge(price, on='Date')\n",
    "data[['Date','Open','Close','Adj Close','Adj Close Tmrw','Label','Label-test']].head(15)"
   ]
  },
  {
   "cell_type": "code",
   "execution_count": 5,
   "metadata": {},
   "outputs": [],
   "source": [
    "# we see that the news dataset has misleading dates and results in a row containing the stocks values from the given date but the label from the pervious date. "
   ]
  }
 ]
}